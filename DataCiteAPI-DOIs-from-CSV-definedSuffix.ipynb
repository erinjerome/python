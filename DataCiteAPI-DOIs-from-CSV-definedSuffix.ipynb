{
 "cells": [
  {
   "cell_type": "code",
   "execution_count": null,
   "id": "compressed-tamil",
   "metadata": {},
   "outputs": [],
   "source": [
    "import requests\n",
    "import json\n",
    "import random\n",
    "import string\n",
    "import pandas as pd"
   ]
  },
  {
   "cell_type": "code",
   "execution_count": null,
   "id": "heard-bouquet",
   "metadata": {},
   "outputs": [],
   "source": [
    "def rando_gen():\n",
    "    '''Generates a random four-character alphanumeric string'''\n",
    "    return ''.join(random.choice(string.ascii_lowercase + string.digits) for x in range(4))"
   ]
  },
  {
   "cell_type": "code",
   "execution_count": null,
   "id": "collected-sheriff",
   "metadata": {},
   "outputs": [],
   "source": [
    "def new_doi():\n",
    "    '''Combines two rando_gen() functions for DOI'''\n",
    "    return '{0}-{1}'.format(rando_gen(), rando_gen())"
   ]
  },
  {
   "cell_type": "code",
   "execution_count": null,
   "id": "democratic-oxide",
   "metadata": {},
   "outputs": [],
   "source": [
    "def pull_dois():\n",
    "    '''Pulls current crop of DOIs from Datacite API'''\n",
    "    response = requests.get('https://api.datacite.org/dois?client-id=umass.uma')\n",
    "    dois = json.loads(response.text)\n",
    "    doi_data = dois['data']\n",
    "    known_idents = []\n",
    "    for doi in doi_data:\n",
    "        ident = doi['id'].split('/')[1]\n",
    "        known_idents.append(ident)\n",
    "    return known_idents"
   ]
  },
  {
   "cell_type": "code",
   "execution_count": null,
   "id": "bright-bonus",
   "metadata": {},
   "outputs": [],
   "source": [
    "def data_munger(x, xx):\n",
    "    '''Reads in the metadata from your export CSV and readies it for import. Note: the row.creator refers to a column titled creator in OUR csv of metadata. You will need to make sure that your row.name matches the corresponding column name in your csv file in order for the metadata to be read correctly.'''\n",
    "    input_csv = pd.read_csv(xx, encoding='utf-8')\n",
    "    data_package = []\n",
    "    for row in input_csv.itertuples():\n",
    "        doi_ext = new_doi()\n",
    "        while rando_gen() in x:\n",
    "            doi_ext = new_doi()\n",
    "        else:\n",
    "            data_package.append({'id': row.context_key, 'creators': [{'name': row.creator,'nameType': 'Personal', \n",
    "                                'givenName': row.author1_fname, 'familyName': row.author1_lname, \n",
    "                                'affiliation': 'University of Massachusetts Amherst'}],'year': row.date, 'uri': row.source, \n",
    "                                 'title': row.title, 'type': row.type, 'descriptions': [{'description': row.description, \n",
    "                                'descriptionType': 'Abstract'}], 'publisher': row.publisher, \n",
    "                                 'language': \"English\", 'doi': '10.7275/{0}'.format(row.context_key)})\n",
    "            '''Be sure to enter your doi prefix above where it says 10.#####.'''\n",
    "    return data_package"
   ]
  },
  {
   "cell_type": "code",
   "execution_count": null,
   "id": "above-clearing",
   "metadata": {},
   "outputs": [],
   "source": [
    "def doi_packager(y):\n",
    "    '''Submits new DOI packages to Datacite. Be sure to add your credentials for DataCite production where it says USERNAME and PASSWORD.'''\n",
    "    headers = {'Content-Type': 'application/vnd.api+json'}\n",
    "    export_list = []\n",
    "    for doi_data in y:\n",
    "        export_dict = {}\n",
    "        data_pack = {'data': {'id': doi_data['doi'], 'type': 'dois', 'attributes':\n",
    "                         {'event': 'publish', 'doi': doi_data['doi'], 'creators': doi_data['creators'],\n",
    "                          'titles': [{'title': doi_data['title']}], 'publisher': doi_data['publisher'],\n",
    "                          'publicationYear': doi_data['year'], 'descriptions': doi_data['descriptions'],\n",
    "                          'types': {'resourceTypeGeneral': 'Text', 'resourceType': doi_data['type']}, \n",
    "                          'url': doi_data['uri'], 'schemaVersion': 'http://datacite.org/schema/kernel-4'}}}\n",
    "        jsonized = json.dumps(data_pack, ensure_ascii=False)\n",
    "        response = requests.post('https://api.datacite.org/dois',\n",
    "                                 headers=headers, data=jsonized.encode('utf-8'),\n",
    "                                 auth=('umass.uma', 'SCh0lC0mm1967'))\n",
    "        print('{0} processed, response: {1}'.format(doi_data['doi'], response.status_code))\n",
    "        export_dict['id'] = doi_data['id']\n",
    "        export_dict['doi'] = 'https://doi.org/{0}'.format(doi_data['doi'])\n",
    "        export_dict['status'] = response.status_code\n",
    "        export_list.append(export_dict)\n",
    "    return export_list"
   ]
  },
  {
   "cell_type": "code",
   "execution_count": null,
   "id": "respiratory-nutrition",
   "metadata": {},
   "outputs": [],
   "source": [
    "def csv_machine(z):\n",
    "    '''Barfs out a CSV file of your results'''\n",
    "    output = pd.DataFrame(z)\n",
    "    output = output.set_index('id')\n",
    "    output.to_csv('metadata_update.csv')"
   ]
  },
  {
   "cell_type": "code",
   "execution_count": null,
   "id": "incredible-disaster",
   "metadata": {},
   "outputs": [],
   "source": [
    "file_name = input('Please enter the name of your CSV file. (Make sure the filename has no spaces!)')"
   ]
  },
  {
   "cell_type": "code",
   "execution_count": null,
   "id": "olympic-victoria",
   "metadata": {},
   "outputs": [],
   "source": [
    "existing_dois = pull_dois()\n",
    "new_dois = data_munger(existing_dois, file_name)\n",
    "results = doi_packager(new_dois)\n",
    "csv_machine(results)"
   ]
  }
 ],
 "metadata": {
  "kernelspec": {
   "display_name": "Python 3",
   "language": "python",
   "name": "python3"
  },
  "language_info": {
   "codemirror_mode": {
    "name": "ipython",
    "version": 3
   },
   "file_extension": ".py",
   "mimetype": "text/x-python",
   "name": "python",
   "nbconvert_exporter": "python",
   "pygments_lexer": "ipython3",
   "version": "3.8.5"
  }
 },
 "nbformat": 4,
 "nbformat_minor": 5
}
